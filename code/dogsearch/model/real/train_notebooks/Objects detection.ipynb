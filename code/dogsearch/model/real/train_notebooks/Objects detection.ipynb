{
 "cells": [
  {
   "cell_type": "markdown",
   "metadata": {},
   "source": [
    "# Objects detection"
   ]
  },
  {
   "cell_type": "markdown",
   "metadata": {
    "toc": true
   },
   "source": [
    "<h1>Table of Contents<span class=\"tocSkip\"></span></h1>\n",
    "<div class=\"toc\"><ul class=\"toc-item\"><li><span><a href=\"#Objects-detection\" data-toc-modified-id=\"Objects-detection-1\">Objects detection</a></span><ul class=\"toc-item\"><li><span><a href=\"#Dataset-load\" data-toc-modified-id=\"Dataset-load-1.1\">Dataset load</a></span></li><li><span><a href=\"#Object-detection-with-RetinaNet\" data-toc-modified-id=\"Object-detection-with-RetinaNet-1.2\">Object detection with RetinaNet</a></span></li><li><span><a href=\"#Object-detection-with-YOLOv3\" data-toc-modified-id=\"Object-detection-with-YOLOv3-1.3\">Object detection with YOLOv3</a></span></li><li><span><a href=\"#Labels-selections\" data-toc-modified-id=\"Labels-selections-1.4\">Labels selections</a></span></li><li><span><a href=\"#Object-detection-quality-assesment\" data-toc-modified-id=\"Object-detection-quality-assesment-1.5\">Object detection quality assesment</a></span><ul class=\"toc-item\"><li><span><a href=\"#RetinaNet\" data-toc-modified-id=\"RetinaNet-1.5.1\">RetinaNet</a></span><ul class=\"toc-item\"><li><span><a href=\"#Dog\" data-toc-modified-id=\"Dog-1.5.1.1\">Dog</a></span></li><li><span><a href=\"#Human\" data-toc-modified-id=\"Human-1.5.1.2\">Human</a></span></li><li><span><a href=\"#Any-animal\" data-toc-modified-id=\"Any-animal-1.5.1.3\">Any animal</a></span></li></ul></li><li><span><a href=\"#YOLOv3\" data-toc-modified-id=\"YOLOv3-1.5.2\">YOLOv3</a></span><ul class=\"toc-item\"><li><span><a href=\"#Dog\" data-toc-modified-id=\"Dog-1.5.2.1\">Dog</a></span></li><li><span><a href=\"#Human\" data-toc-modified-id=\"Human-1.5.2.2\">Human</a></span></li><li><span><a href=\"#Any-animal\" data-toc-modified-id=\"Any-animal-1.5.2.3\">Any animal</a></span></li></ul></li></ul></li><li><span><a href=\"#Combined-quality\" data-toc-modified-id=\"Combined-quality-1.6\">Combined quality</a></span></li></ul></li></ul></div>"
   ]
  },
  {
   "cell_type": "code",
   "execution_count": 10,
   "metadata": {
    "ExecuteTime": {
     "end_time": "2021-10-23T07:11:06.492010Z",
     "start_time": "2021-10-23T07:11:05.924161Z"
    }
   },
   "outputs": [],
   "source": [
    "from glob import glob\n",
    "import numpy as np\n",
    "import pandas as pd\n",
    "import sys,os\n",
    "from imageai.Detection import ObjectDetection\n",
    "import matplotlib.pyplot as plt\n",
    "from sklearn.metrics import balanced_accuracy_score"
   ]
  },
  {
   "cell_type": "markdown",
   "metadata": {
    "ExecuteTime": {
     "end_time": "2021-10-22T17:35:19.353360Z",
     "start_time": "2021-10-22T17:35:19.337360Z"
    }
   },
   "source": [
    "## Dataset load"
   ]
  },
  {
   "cell_type": "code",
   "execution_count": 52,
   "metadata": {
    "ExecuteTime": {
     "end_time": "2021-10-23T20:27:01.350350Z",
     "start_time": "2021-10-23T20:27:01.285728Z"
    }
   },
   "outputs": [
    {
     "data": {
      "text/html": [
       "<div>\n",
       "<style scoped>\n",
       "    .dataframe tbody tr th:only-of-type {\n",
       "        vertical-align: middle;\n",
       "    }\n",
       "\n",
       "    .dataframe tbody tr th {\n",
       "        vertical-align: top;\n",
       "    }\n",
       "\n",
       "    .dataframe thead th {\n",
       "        text-align: right;\n",
       "    }\n",
       "</style>\n",
       "<table border=\"1\" class=\"dataframe\">\n",
       "  <thead>\n",
       "    <tr style=\"text-align: right;\">\n",
       "      <th></th>\n",
       "      <th>dog</th>\n",
       "      <th>human</th>\n",
       "      <th>animal_not_dog</th>\n",
       "      <th>any_animal</th>\n",
       "      <th>path</th>\n",
       "    </tr>\n",
       "  </thead>\n",
       "  <tbody>\n",
       "    <tr>\n",
       "      <th>0</th>\n",
       "      <td>0</td>\n",
       "      <td>0</td>\n",
       "      <td>0</td>\n",
       "      <td>0</td>\n",
       "      <td>324</td>\n",
       "    </tr>\n",
       "    <tr>\n",
       "      <th>1</th>\n",
       "      <td>0</td>\n",
       "      <td>0</td>\n",
       "      <td>1</td>\n",
       "      <td>1</td>\n",
       "      <td>294</td>\n",
       "    </tr>\n",
       "    <tr>\n",
       "      <th>2</th>\n",
       "      <td>1</td>\n",
       "      <td>0</td>\n",
       "      <td>0</td>\n",
       "      <td>1</td>\n",
       "      <td>1055</td>\n",
       "    </tr>\n",
       "    <tr>\n",
       "      <th>3</th>\n",
       "      <td>1</td>\n",
       "      <td>1</td>\n",
       "      <td>0</td>\n",
       "      <td>1</td>\n",
       "      <td>513</td>\n",
       "    </tr>\n",
       "  </tbody>\n",
       "</table>\n",
       "</div>"
      ],
      "text/plain": [
       "   dog  human  animal_not_dog  any_animal  path\n",
       "0    0      0               0           0   324\n",
       "1    0      0               1           1   294\n",
       "2    1      0               0           1  1055\n",
       "3    1      1               0           1   513"
      ]
     },
     "metadata": {},
     "output_type": "display_data"
    },
    {
     "data": {
      "text/html": [
       "<div>\n",
       "<style scoped>\n",
       "    .dataframe tbody tr th:only-of-type {\n",
       "        vertical-align: middle;\n",
       "    }\n",
       "\n",
       "    .dataframe tbody tr th {\n",
       "        vertical-align: top;\n",
       "    }\n",
       "\n",
       "    .dataframe thead th {\n",
       "        text-align: right;\n",
       "    }\n",
       "</style>\n",
       "<table border=\"1\" class=\"dataframe\">\n",
       "  <thead>\n",
       "    <tr style=\"text-align: right;\">\n",
       "      <th></th>\n",
       "      <th>dog</th>\n",
       "      <th>human</th>\n",
       "      <th>animal_not_dog</th>\n",
       "      <th>dog_color</th>\n",
       "      <th>dog_tail</th>\n",
       "      <th>path</th>\n",
       "    </tr>\n",
       "  </thead>\n",
       "  <tbody>\n",
       "    <tr>\n",
       "      <th>0</th>\n",
       "      <td>1</td>\n",
       "      <td>0</td>\n",
       "      <td>0</td>\n",
       "      <td>dark</td>\n",
       "      <td>long</td>\n",
       "      <td>143</td>\n",
       "    </tr>\n",
       "    <tr>\n",
       "      <th>1</th>\n",
       "      <td>1</td>\n",
       "      <td>0</td>\n",
       "      <td>0</td>\n",
       "      <td>dark</td>\n",
       "      <td>short</td>\n",
       "      <td>211</td>\n",
       "    </tr>\n",
       "    <tr>\n",
       "      <th>2</th>\n",
       "      <td>1</td>\n",
       "      <td>0</td>\n",
       "      <td>0</td>\n",
       "      <td>light</td>\n",
       "      <td>long</td>\n",
       "      <td>175</td>\n",
       "    </tr>\n",
       "    <tr>\n",
       "      <th>3</th>\n",
       "      <td>1</td>\n",
       "      <td>0</td>\n",
       "      <td>0</td>\n",
       "      <td>light</td>\n",
       "      <td>short</td>\n",
       "      <td>243</td>\n",
       "    </tr>\n",
       "    <tr>\n",
       "      <th>4</th>\n",
       "      <td>1</td>\n",
       "      <td>0</td>\n",
       "      <td>0</td>\n",
       "      <td>mixed</td>\n",
       "      <td>long</td>\n",
       "      <td>123</td>\n",
       "    </tr>\n",
       "    <tr>\n",
       "      <th>5</th>\n",
       "      <td>1</td>\n",
       "      <td>0</td>\n",
       "      <td>0</td>\n",
       "      <td>mixed</td>\n",
       "      <td>short</td>\n",
       "      <td>160</td>\n",
       "    </tr>\n",
       "  </tbody>\n",
       "</table>\n",
       "</div>"
      ],
      "text/plain": [
       "   dog  human  animal_not_dog dog_color dog_tail  path\n",
       "0    1      0               0      dark     long   143\n",
       "1    1      0               0      dark    short   211\n",
       "2    1      0               0     light     long   175\n",
       "3    1      0               0     light    short   243\n",
       "4    1      0               0     mixed     long   123\n",
       "5    1      0               0     mixed    short   160"
      ]
     },
     "metadata": {},
     "output_type": "display_data"
    }
   ],
   "source": [
    "## Dataset descriptive\n",
    "\n",
    "#parse files in dataset folder\n",
    "\n",
    "columns = ['path','file_id', 'dog', 'human', 'animal_not_dog', 'dog_color', 'dog_tail']\n",
    "\n",
    "def add_files(dataset_folder_path, dog, human, animal_not_dog, dog_color, dog_tail):\n",
    "    dataset_files = []\n",
    "    for path, subdirs, files in os.walk(dataset_folder_path):\n",
    "        for name in files:\n",
    "            if '_' not in name:\n",
    "                dataset_files.append([os.path.join(path, name), name, dog, human, animal_not_dog, dog_color, dog_tail])\n",
    "    return pd.DataFrame(dataset_files)\n",
    "\n",
    "\n",
    "data = pd.concat([add_files(\"dataset\\other_animals\", 0, 0, 1, None, None)\n",
    "                 ,add_files(\"dataset\\empty\", 0, 0, 0, None, None)\n",
    "                 ,add_files(\"dataset\\only_dog\\mixed_long\", 1, 0, 0, \"mixed\", \"long\")\n",
    "                 ,add_files(\"dataset\\only_dog\\mixed_short\", 1, 0, 0, \"mixed\", \"short\")\n",
    "                 ,add_files(\"dataset\\only_dog\\light_long\", 1, 0, 0, \"light\", \"long\")\n",
    "                 ,add_files(\"dataset\\only_dog\\dark_long\", 1, 0, 0, \"dark\", \"long\")\n",
    "                 ,add_files(\"dataset\\only_dog\\dark_short\", 1, 0, 0, \"dark\", \"short\")\n",
    "                 ,add_files(\"dataset\\only_dog\\light_short\", 1, 0, 0, \"light\", \"short\")\n",
    "                 ,add_files(\"dataset\\human_and_dog\", 1, 1, 0, None, None)])\n",
    "\n",
    "data.columns = columns\n",
    "\n",
    "data['any_animal'] = data[['dog', 'animal_not_dog']].max(axis=1)\n",
    "\n",
    "display(data.groupby(['dog', 'human', 'animal_not_dog', 'any_animal'])['path'].count().reset_index())\n",
    "display(data.groupby(['dog', 'human', 'animal_not_dog', 'dog_color', 'dog_tail'])['path'].count().reset_index())"
   ]
  },
  {
   "cell_type": "markdown",
   "metadata": {},
   "source": [
    "## Object detection with RetinaNet"
   ]
  },
  {
   "cell_type": "code",
   "execution_count": 3,
   "metadata": {
    "ExecuteTime": {
     "end_time": "2021-10-22T22:21:24.359597Z",
     "start_time": "2021-10-22T19:42:03.697215Z"
    },
    "deletable": false,
    "editable": false,
    "run_control": {
     "frozen": true
    }
   },
   "outputs": [
    {
     "name": "stdout",
     "output_type": "stream",
     "text": [
      "WARNING:tensorflow:No training configuration found in the save file, so the model was *not* compiled. Compile it manually.\n"
     ]
    }
   ],
   "source": [
    "execution_path = os.getcwd()\n",
    "\n",
    "detector = ObjectDetection()\n",
    "detector.setModelTypeAsRetinaNet()\n",
    "detector.setModelPath(os.path.join(execution_path , \"resnet50_coco_best_v2.1.0.h5\"))\n",
    "detector.loadModel()\n",
    "\n",
    "objects_all = []\n",
    "result_folder = 'dataset_objects_resnet50'\n",
    "\n",
    "for i, row in data.iterrows():\n",
    "    try:\n",
    "        execution_path = os.getcwd()\n",
    "\n",
    "        detections, extracted_images = detector.detectObjectsFromImage(input_image=os.path.join(execution_path, row['path'])\n",
    "                                                     , output_image_path=os.path.join(execution_path, result_folder + \"/\" + row['path'])\n",
    "                                                     , minimum_percentage_probability=5\n",
    "                                                     , extract_detected_objects=True\n",
    "                                                     , display_percentage_probability=False\n",
    "                                                     , display_object_name=False\n",
    "                                                     , display_box=False)   \n",
    "\n",
    "        for i in range(0, len(detections)):\n",
    "            detections[i]['object_path'] = extracted_images[i]\n",
    "            objects = pd.DataFrame(detections)\n",
    "            objects['file_id'] = row['file_id']\n",
    "        if objects.shape[0] > 0:\n",
    "            objects_all.append(objects)\n",
    "    except:\n",
    "        print('Error in ' + row['path'])\n",
    "    \n",
    "\n",
    "objects_all = pd.concat(objects_all)\n",
    "objects_all.to_csv(result_folder + '/all_objects.csv')"
   ]
  },
  {
   "cell_type": "markdown",
   "metadata": {
    "ExecuteTime": {
     "end_time": "2021-10-22T17:44:57.263462Z",
     "start_time": "2021-10-22T17:44:57.255464Z"
    }
   },
   "source": [
    "## Object detection with YOLOv3"
   ]
  },
  {
   "cell_type": "code",
   "execution_count": 5,
   "metadata": {
    "ExecuteTime": {
     "end_time": "2021-10-23T02:55:07.928960Z",
     "start_time": "2021-10-22T23:16:28.613005Z"
    },
    "deletable": false,
    "editable": false,
    "run_control": {
     "frozen": true
    }
   },
   "outputs": [],
   "source": [
    "execution_path = os.getcwd()\n",
    "\n",
    "detector = ObjectDetection()\n",
    "detector.setModelTypeAsYOLOv3()\n",
    "detector.setModelPath(os.path.join(execution_path , \"yolo.h5\"))\n",
    "detector.loadModel()\n",
    "\n",
    "objects_all = []\n",
    "result_folder = 'dataset_objects_yolo'\n",
    "\n",
    "for i, row in data.iterrows():\n",
    "    try:\n",
    "        execution_path = os.getcwd()\n",
    "\n",
    "        detections, extracted_images = detector.detectObjectsFromImage(input_image=os.path.join(execution_path, row['path'])\n",
    "                                                     , output_image_path=os.path.join(execution_path, result_folder + \"/\" + row['path'])\n",
    "                                                     , minimum_percentage_probability=5\n",
    "                                                     , extract_detected_objects=True\n",
    "                                                     , display_percentage_probability=False\n",
    "                                                     , display_object_name=False\n",
    "                                                     , display_box=False)   \n",
    "        for i in range(0, len(detections)):\n",
    "            detections[i]['object_path'] = extracted_images[i]\n",
    "            objects = pd.DataFrame(detections)\n",
    "            objects['file_id'] = row['file_id']\n",
    "        if objects.shape[0] > 0:\n",
    "            objects_all.append(objects)\n",
    "    except:\n",
    "        print('Error in ' + row['path'])\n",
    "    \n",
    "\n",
    "objects_all = pd.concat(objects_all)\n",
    "objects_all.to_csv(result_folder + '/all_objects.csv')"
   ]
  },
  {
   "cell_type": "code",
   "execution_count": 6,
   "metadata": {
    "ExecuteTime": {
     "end_time": "2021-10-23T06:53:49.565110Z",
     "start_time": "2021-10-23T06:53:49.263948Z"
    }
   },
   "outputs": [],
   "source": [
    "#save results\n",
    "data.to_excel('object_detection_result.xls', index=False)"
   ]
  },
  {
   "cell_type": "markdown",
   "metadata": {},
   "source": [
    "## Labels selections"
   ]
  },
  {
   "cell_type": "markdown",
   "metadata": {},
   "source": [
    "## Object detection quality assesment"
   ]
  },
  {
   "cell_type": "code",
   "execution_count": 20,
   "metadata": {
    "ExecuteTime": {
     "end_time": "2021-10-23T08:13:14.257026Z",
     "start_time": "2021-10-23T08:13:14.222828Z"
    }
   },
   "outputs": [],
   "source": [
    "def accuracy_calc(predicted_label,true_label,result_folder,model_label):\n",
    "    \n",
    "    objects_retina = pd.read_csv(result_folder + '/all_objects.csv')\n",
    "    all_classes = [\"person\",\"bicycle\",\"car\",\"motorcycle\",\"airplane\",\"bus\",\"train\",\"truck\",\"boat\",\"trafficlight\",\"firehydrant\",\"stop_sign\",\"parkingmeter\",\"bench\",\"bird\",\"cat\",\"dog\",\"horse\",\"sheep\",\"cow\",\"elephant\",\"bear\",\"zebra\",\"giraffe\",\"backpack\",\"umbrella\",\"handbag\",\"tie\",\"suitcase\",\"frisbee\",\"skis\",\"snowboard\",\"sportsball\",\"kite\",\"baseballbat\",\"baseballglove\",\"skateboard\",\"surfboard\",\"tennisracket\",\"bottle\",\"wineglass\",\"cup\",\"fork\",\"knife\",\"spoon\",\"bowl\",\"banana\",\"apple\",\"sandwich\",\"orange\",\"broccoli\",\"carrot\",\"hotdog\",\"pizza\",\"donot\",\"cake\",\"chair\",\"couch\",\"pottedplant\",\"bed\",\"diningtable\",\"toilet\",\"tv\",\"laptop\",\"mouse\",\"remote\",\"keyboard\",\"cellphone\",\"microwave\",\"oven\",\"toaster\",\"sink\",\"refrigerator\",\"book\",\"clock\",\"vase\",\"scissors\",\"teddybear\",\"hairdryer\",\"toothbrush\"]\n",
    "    labels_stat = []\n",
    "\n",
    "    for cl in all_classes:\n",
    "\n",
    "        x = range(5, 100, 1)\n",
    "        y = []\n",
    "\n",
    "        for n in x:\n",
    "            tmp = objects_retina[(objects_retina['name'] == cl)&(objects_retina['percentage_probability'] >= n)]\n",
    "            data[predicted_label] = np.where(data['file_id'].isin(tmp['file_id']), 1, 0)\n",
    "            y.append(balanced_accuracy_score(data[true_label], data[predicted_label]))\n",
    "\n",
    "        if cl in model_labels:\n",
    "            plt.plot(x, y)\n",
    "            plt.xlabel('Model score')\n",
    "            plt.ylabel('Balanced accuracy')\n",
    "            plt.title(cl)\n",
    "            plt.show()\n",
    "\n",
    "        labels_stat.append([cl, x[np.argmax(y)], np.max(y)])\n",
    "\n",
    "    res = pd.DataFrame(labels_stat)\n",
    "    res.columns = ['class', 'min_prob', 'max_balanced_accuracy']\n",
    "    res = res[res['max_balanced_accuracy'] > 0.55]\n",
    "    display(res[res['max_balanced_accuracy'] > 0.55].sort_values(by='max_balanced_accuracy', ascending=False))\n",
    "    res_ = list(zip(res['class'], res['min_prob']))\n",
    "\n",
    "    def sub_lists(l):\n",
    "        lists = [[]]\n",
    "        for i in range(len(l) + 1):\n",
    "            for j in range(i):\n",
    "                lists.append(l[j: i])\n",
    "        return lists\n",
    "\n",
    "    labels_stat = []\n",
    "\n",
    "    for cl in sub_lists(res_):\n",
    "        if len(cl) > 0:\n",
    "            tmp = []\n",
    "            for cl_ in cl:            \n",
    "                tmp.append(objects_retina[(objects_retina['name'] == cl_[0])&(objects_retina['percentage_probability'] >= cl_[1])])\n",
    "            tmp = pd.concat(tmp)\n",
    "            tmp = tmp.drop_duplicates()\n",
    "            data[predicted_label] = np.where(data['file_id'].isin(tmp['file_id']), 1, 0)\n",
    "            labels_stat.append([cl, balanced_accuracy_score(data[true_label], data[predicted_label])])    \n",
    "\n",
    "    labels_stat = pd.DataFrame(labels_stat)\n",
    "    labels_stat.columns = ['label', 'balanced_accuracy']\n",
    "    display(labels_stat.sort_values(by='balanced_accuracy', ascending=False).head(10))"
   ]
  },
  {
   "cell_type": "markdown",
   "metadata": {
    "ExecuteTime": {
     "end_time": "2021-10-22T17:47:18.229325Z",
     "start_time": "2021-10-22T17:47:18.224324Z"
    }
   },
   "source": [
    "### RetinaNet"
   ]
  },
  {
   "cell_type": "markdown",
   "metadata": {
    "ExecuteTime": {
     "end_time": "2021-10-22T17:45:54.746993Z",
     "start_time": "2021-10-22T17:45:54.734879Z"
    }
   },
   "source": [
    "#### Dog"
   ]
  },
  {
   "cell_type": "code",
   "execution_count": 21,
   "metadata": {
    "ExecuteTime": {
     "end_time": "2021-10-23T08:17:10.731340Z",
     "start_time": "2021-10-23T08:13:14.259058Z"
    }
   },
   "outputs": [
    {
     "data": {
      "image/png": "[encoded data removed]",
      "text/plain": [
       "<Figure size 432x288 with 1 Axes>"
      ]
     },
     "metadata": {
      "needs_background": "light"
     },
     "output_type": "display_data"
    },
    {
     "data": {
      "text/html": [
       "<div>\n",
       "<style scoped>\n",
       "    .dataframe tbody tr th:only-of-type {\n",
       "        vertical-align: middle;\n",
       "    }\n",
       "\n",
       "    .dataframe tbody tr th {\n",
       "        vertical-align: top;\n",
       "    }\n",
       "\n",
       "    .dataframe thead th {\n",
       "        text-align: right;\n",
       "    }\n",
       "</style>\n",
       "<table border=\"1\" class=\"dataframe\">\n",
       "  <thead>\n",
       "    <tr style=\"text-align: right;\">\n",
       "      <th></th>\n",
       "      <th>class</th>\n",
       "      <th>min_prob</th>\n",
       "      <th>max_balanced_accuracy</th>\n",
       "    </tr>\n",
       "  </thead>\n",
       "  <tbody>\n",
       "    <tr>\n",
       "      <th>16</th>\n",
       "      <td>dog</td>\n",
       "      <td>9</td>\n",
       "      <td>0.757699</td>\n",
       "    </tr>\n",
       "    <tr>\n",
       "      <th>18</th>\n",
       "      <td>sheep</td>\n",
       "      <td>5</td>\n",
       "      <td>0.740485</td>\n",
       "    </tr>\n",
       "    <tr>\n",
       "      <th>15</th>\n",
       "      <td>cat</td>\n",
       "      <td>5</td>\n",
       "      <td>0.683859</td>\n",
       "    </tr>\n",
       "    <tr>\n",
       "      <th>17</th>\n",
       "      <td>horse</td>\n",
       "      <td>9</td>\n",
       "      <td>0.670219</td>\n",
       "    </tr>\n",
       "    <tr>\n",
       "      <th>19</th>\n",
       "      <td>cow</td>\n",
       "      <td>8</td>\n",
       "      <td>0.660296</td>\n",
       "    </tr>\n",
       "    <tr>\n",
       "      <th>0</th>\n",
       "      <td>person</td>\n",
       "      <td>58</td>\n",
       "      <td>0.631303</td>\n",
       "    </tr>\n",
       "    <tr>\n",
       "      <th>29</th>\n",
       "      <td>frisbee</td>\n",
       "      <td>5</td>\n",
       "      <td>0.620205</td>\n",
       "    </tr>\n",
       "    <tr>\n",
       "      <th>14</th>\n",
       "      <td>bird</td>\n",
       "      <td>5</td>\n",
       "      <td>0.611979</td>\n",
       "    </tr>\n",
       "    <tr>\n",
       "      <th>36</th>\n",
       "      <td>skateboard</td>\n",
       "      <td>5</td>\n",
       "      <td>0.607592</td>\n",
       "    </tr>\n",
       "    <tr>\n",
       "      <th>20</th>\n",
       "      <td>elephant</td>\n",
       "      <td>5</td>\n",
       "      <td>0.605906</td>\n",
       "    </tr>\n",
       "    <tr>\n",
       "      <th>24</th>\n",
       "      <td>backpack</td>\n",
       "      <td>7</td>\n",
       "      <td>0.601343</td>\n",
       "    </tr>\n",
       "    <tr>\n",
       "      <th>26</th>\n",
       "      <td>handbag</td>\n",
       "      <td>8</td>\n",
       "      <td>0.587925</td>\n",
       "    </tr>\n",
       "    <tr>\n",
       "      <th>21</th>\n",
       "      <td>bear</td>\n",
       "      <td>5</td>\n",
       "      <td>0.579511</td>\n",
       "    </tr>\n",
       "    <tr>\n",
       "      <th>61</th>\n",
       "      <td>toilet</td>\n",
       "      <td>5</td>\n",
       "      <td>0.562467</td>\n",
       "    </tr>\n",
       "    <tr>\n",
       "      <th>37</th>\n",
       "      <td>surfboard</td>\n",
       "      <td>5</td>\n",
       "      <td>0.557160</td>\n",
       "    </tr>\n",
       "  </tbody>\n",
       "</table>\n",
       "</div>"
      ],
      "text/plain": [
       "         class  min_prob  max_balanced_accuracy\n",
       "16         dog         9               0.757699\n",
       "18       sheep         5               0.740485\n",
       "15         cat         5               0.683859\n",
       "17       horse         9               0.670219\n",
       "19         cow         8               0.660296\n",
       "0       person        58               0.631303\n",
       "29     frisbee         5               0.620205\n",
       "14        bird         5               0.611979\n",
       "36  skateboard         5               0.607592\n",
       "20    elephant         5               0.605906\n",
       "24    backpack         7               0.601343\n",
       "26     handbag         8               0.587925\n",
       "21        bear         5               0.579511\n",
       "61      toilet         5               0.562467\n",
       "37   surfboard         5               0.557160"
      ]
     },
     "metadata": {},
     "output_type": "display_data"
    },
    {
     "data": {
      "text/html": [
       "<div>\n",
       "<style scoped>\n",
       "    .dataframe tbody tr th:only-of-type {\n",
       "        vertical-align: middle;\n",
       "    }\n",
       "\n",
       "    .dataframe tbody tr th {\n",
       "        vertical-align: top;\n",
       "    }\n",
       "\n",
       "    .dataframe thead th {\n",
       "        text-align: right;\n",
       "    }\n",
       "</style>\n",
       "<table border=\"1\" class=\"dataframe\">\n",
       "  <thead>\n",
       "    <tr style=\"text-align: right;\">\n",
       "      <th></th>\n",
       "      <th>label</th>\n",
       "      <th>balanced_accuracy</th>\n",
       "    </tr>\n",
       "  </thead>\n",
       "  <tbody>\n",
       "    <tr>\n",
       "      <th>9</th>\n",
       "      <td>[(dog, 9)]</td>\n",
       "      <td>0.757699</td>\n",
       "    </tr>\n",
       "    <tr>\n",
       "      <th>20</th>\n",
       "      <td>[(sheep, 5)]</td>\n",
       "      <td>0.740485</td>\n",
       "    </tr>\n",
       "    <tr>\n",
       "      <th>8</th>\n",
       "      <td>[(cat, 5), (dog, 9)]</td>\n",
       "      <td>0.731554</td>\n",
       "    </tr>\n",
       "    <tr>\n",
       "      <th>18</th>\n",
       "      <td>[(dog, 9), (horse, 9), (sheep, 5)]</td>\n",
       "      <td>0.726348</td>\n",
       "    </tr>\n",
       "    <tr>\n",
       "      <th>13</th>\n",
       "      <td>[(dog, 9), (horse, 9)]</td>\n",
       "      <td>0.723321</td>\n",
       "    </tr>\n",
       "    <tr>\n",
       "      <th>19</th>\n",
       "      <td>[(horse, 9), (sheep, 5)]</td>\n",
       "      <td>0.722978</td>\n",
       "    </tr>\n",
       "    <tr>\n",
       "      <th>26</th>\n",
       "      <td>[(sheep, 5), (cow, 8)]</td>\n",
       "      <td>0.704660</td>\n",
       "    </tr>\n",
       "    <tr>\n",
       "      <th>24</th>\n",
       "      <td>[(dog, 9), (horse, 9), (sheep, 5), (cow, 8)]</td>\n",
       "      <td>0.701739</td>\n",
       "    </tr>\n",
       "    <tr>\n",
       "      <th>17</th>\n",
       "      <td>[(cat, 5), (dog, 9), (horse, 9), (sheep, 5)]</td>\n",
       "      <td>0.697865</td>\n",
       "    </tr>\n",
       "    <tr>\n",
       "      <th>25</th>\n",
       "      <td>[(horse, 9), (sheep, 5), (cow, 8)]</td>\n",
       "      <td>0.697512</td>\n",
       "    </tr>\n",
       "  </tbody>\n",
       "</table>\n",
       "</div>"
      ],
      "text/plain": [
       "                                           label  balanced_accuracy\n",
       "9                                     [(dog, 9)]           0.757699\n",
       "20                                  [(sheep, 5)]           0.740485\n",
       "8                           [(cat, 5), (dog, 9)]           0.731554\n",
       "18            [(dog, 9), (horse, 9), (sheep, 5)]           0.726348\n",
       "13                        [(dog, 9), (horse, 9)]           0.723321\n",
       "19                      [(horse, 9), (sheep, 5)]           0.722978\n",
       "26                        [(sheep, 5), (cow, 8)]           0.704660\n",
       "24  [(dog, 9), (horse, 9), (sheep, 5), (cow, 8)]           0.701739\n",
       "17  [(cat, 5), (dog, 9), (horse, 9), (sheep, 5)]           0.697865\n",
       "25            [(horse, 9), (sheep, 5), (cow, 8)]           0.697512"
      ]
     },
     "metadata": {},
     "output_type": "display_data"
    }
   ],
   "source": [
    "predicted_label = 'dog_predicted_retina'\n",
    "true_label = 'dog'\n",
    "result_folder = 'dataset_objects_resnet50'\n",
    "model_labels = ['dog']\n",
    "\n",
    "accuracy_calc(predicted_label,true_label,result_folder,model_label)"
   ]
  },
  {
   "cell_type": "markdown",
   "metadata": {},
   "source": [
    "#### Human"
   ]
  },
  {
   "cell_type": "code",
   "execution_count": 22,
   "metadata": {
    "ExecuteTime": {
     "end_time": "2021-10-23T08:21:16.339536Z",
     "start_time": "2021-10-23T08:17:10.733379Z"
    }
   },
   "outputs": [
    {
     "data": {
      "image/png": "[encoded data removed]",
      "text/plain": [
       "<Figure size 432x288 with 1 Axes>"
      ]
     },
     "metadata": {
      "needs_background": "light"
     },
     "output_type": "display_data"
    },
    {
     "data": {
      "text/html": [
       "<div>\n",
       "<style scoped>\n",
       "    .dataframe tbody tr th:only-of-type {\n",
       "        vertical-align: middle;\n",
       "    }\n",
       "\n",
       "    .dataframe tbody tr th {\n",
       "        vertical-align: top;\n",
       "    }\n",
       "\n",
       "    .dataframe thead th {\n",
       "        text-align: right;\n",
       "    }\n",
       "</style>\n",
       "<table border=\"1\" class=\"dataframe\">\n",
       "  <thead>\n",
       "    <tr style=\"text-align: right;\">\n",
       "      <th></th>\n",
       "      <th>class</th>\n",
       "      <th>min_prob</th>\n",
       "      <th>max_balanced_accuracy</th>\n",
       "    </tr>\n",
       "  </thead>\n",
       "  <tbody>\n",
       "    <tr>\n",
       "      <th>0</th>\n",
       "      <td>person</td>\n",
       "      <td>52</td>\n",
       "      <td>0.888427</td>\n",
       "    </tr>\n",
       "    <tr>\n",
       "      <th>26</th>\n",
       "      <td>handbag</td>\n",
       "      <td>8</td>\n",
       "      <td>0.760598</td>\n",
       "    </tr>\n",
       "    <tr>\n",
       "      <th>24</th>\n",
       "      <td>backpack</td>\n",
       "      <td>10</td>\n",
       "      <td>0.729719</td>\n",
       "    </tr>\n",
       "    <tr>\n",
       "      <th>36</th>\n",
       "      <td>skateboard</td>\n",
       "      <td>7</td>\n",
       "      <td>0.714620</td>\n",
       "    </tr>\n",
       "    <tr>\n",
       "      <th>28</th>\n",
       "      <td>suitcase</td>\n",
       "      <td>7</td>\n",
       "      <td>0.627505</td>\n",
       "    </tr>\n",
       "    <tr>\n",
       "      <th>31</th>\n",
       "      <td>snowboard</td>\n",
       "      <td>5</td>\n",
       "      <td>0.613235</td>\n",
       "    </tr>\n",
       "    <tr>\n",
       "      <th>16</th>\n",
       "      <td>dog</td>\n",
       "      <td>10</td>\n",
       "      <td>0.605965</td>\n",
       "    </tr>\n",
       "    <tr>\n",
       "      <th>37</th>\n",
       "      <td>surfboard</td>\n",
       "      <td>5</td>\n",
       "      <td>0.603016</td>\n",
       "    </tr>\n",
       "    <tr>\n",
       "      <th>30</th>\n",
       "      <td>skis</td>\n",
       "      <td>5</td>\n",
       "      <td>0.589544</td>\n",
       "    </tr>\n",
       "    <tr>\n",
       "      <th>29</th>\n",
       "      <td>frisbee</td>\n",
       "      <td>6</td>\n",
       "      <td>0.581598</td>\n",
       "    </tr>\n",
       "    <tr>\n",
       "      <th>15</th>\n",
       "      <td>cat</td>\n",
       "      <td>7</td>\n",
       "      <td>0.578707</td>\n",
       "    </tr>\n",
       "    <tr>\n",
       "      <th>56</th>\n",
       "      <td>chair</td>\n",
       "      <td>9</td>\n",
       "      <td>0.571638</td>\n",
       "    </tr>\n",
       "    <tr>\n",
       "      <th>25</th>\n",
       "      <td>umbrella</td>\n",
       "      <td>7</td>\n",
       "      <td>0.569135</td>\n",
       "    </tr>\n",
       "    <tr>\n",
       "      <th>3</th>\n",
       "      <td>motorcycle</td>\n",
       "      <td>9</td>\n",
       "      <td>0.562629</td>\n",
       "    </tr>\n",
       "    <tr>\n",
       "      <th>13</th>\n",
       "      <td>bench</td>\n",
       "      <td>19</td>\n",
       "      <td>0.562339</td>\n",
       "    </tr>\n",
       "    <tr>\n",
       "      <th>17</th>\n",
       "      <td>horse</td>\n",
       "      <td>7</td>\n",
       "      <td>0.555341</td>\n",
       "    </tr>\n",
       "    <tr>\n",
       "      <th>8</th>\n",
       "      <td>boat</td>\n",
       "      <td>7</td>\n",
       "      <td>0.554560</td>\n",
       "    </tr>\n",
       "    <tr>\n",
       "      <th>57</th>\n",
       "      <td>couch</td>\n",
       "      <td>5</td>\n",
       "      <td>0.551653</td>\n",
       "    </tr>\n",
       "  </tbody>\n",
       "</table>\n",
       "</div>"
      ],
      "text/plain": [
       "         class  min_prob  max_balanced_accuracy\n",
       "0       person        52               0.888427\n",
       "26     handbag         8               0.760598\n",
       "24    backpack        10               0.729719\n",
       "36  skateboard         7               0.714620\n",
       "28    suitcase         7               0.627505\n",
       "31   snowboard         5               0.613235\n",
       "16         dog        10               0.605965\n",
       "37   surfboard         5               0.603016\n",
       "30        skis         5               0.589544\n",
       "29     frisbee         6               0.581598\n",
       "15         cat         7               0.578707\n",
       "56       chair         9               0.571638\n",
       "25    umbrella         7               0.569135\n",
       "3   motorcycle         9               0.562629\n",
       "13       bench        19               0.562339\n",
       "17       horse         7               0.555341\n",
       "8         boat         7               0.554560\n",
       "57       couch         5               0.551653"
      ]
     },
     "metadata": {},
     "output_type": "display_data"
    },
    {
     "data": {
      "text/html": [
       "<div>\n",
       "<style scoped>\n",
       "    .dataframe tbody tr th:only-of-type {\n",
       "        vertical-align: middle;\n",
       "    }\n",
       "\n",
       "    .dataframe tbody tr th {\n",
       "        vertical-align: top;\n",
       "    }\n",
       "\n",
       "    .dataframe thead th {\n",
       "        text-align: right;\n",
       "    }\n",
       "</style>\n",
       "<table border=\"1\" class=\"dataframe\">\n",
       "  <thead>\n",
       "    <tr style=\"text-align: right;\">\n",
       "      <th></th>\n",
       "      <th>label</th>\n",
       "      <th>balanced_accuracy</th>\n",
       "    </tr>\n",
       "  </thead>\n",
       "  <tbody>\n",
       "    <tr>\n",
       "      <th>0</th>\n",
       "      <td>[(person, 52)]</td>\n",
       "      <td>0.888427</td>\n",
       "    </tr>\n",
       "    <tr>\n",
       "      <th>54</th>\n",
       "      <td>[(handbag, 8)]</td>\n",
       "      <td>0.760598</td>\n",
       "    </tr>\n",
       "    <tr>\n",
       "      <th>35</th>\n",
       "      <td>[(backpack, 10)]</td>\n",
       "      <td>0.729719</td>\n",
       "    </tr>\n",
       "    <tr>\n",
       "      <th>118</th>\n",
       "      <td>[(snowboard, 5), (skateboard, 7)]</td>\n",
       "      <td>0.723003</td>\n",
       "    </tr>\n",
       "    <tr>\n",
       "      <th>117</th>\n",
       "      <td>[(skis, 5), (snowboard, 5), (skateboard, 7)]</td>\n",
       "      <td>0.722823</td>\n",
       "    </tr>\n",
       "    <tr>\n",
       "      <th>119</th>\n",
       "      <td>[(skateboard, 7)]</td>\n",
       "      <td>0.714620</td>\n",
       "    </tr>\n",
       "    <tr>\n",
       "      <th>64</th>\n",
       "      <td>[(handbag, 8), (suitcase, 7)]</td>\n",
       "      <td>0.692564</td>\n",
       "    </tr>\n",
       "    <tr>\n",
       "      <th>132</th>\n",
       "      <td>[(skis, 5), (snowboard, 5), (skateboard, 7), (...</td>\n",
       "      <td>0.691978</td>\n",
       "    </tr>\n",
       "    <tr>\n",
       "      <th>116</th>\n",
       "      <td>[(frisbee, 6), (skis, 5), (snowboard, 5), (ska...</td>\n",
       "      <td>0.690860</td>\n",
       "    </tr>\n",
       "    <tr>\n",
       "      <th>133</th>\n",
       "      <td>[(snowboard, 5), (skateboard, 7), (surfboard, 5)]</td>\n",
       "      <td>0.688130</td>\n",
       "    </tr>\n",
       "  </tbody>\n",
       "</table>\n",
       "</div>"
      ],
      "text/plain": [
       "                                                 label  balanced_accuracy\n",
       "0                                       [(person, 52)]           0.888427\n",
       "54                                      [(handbag, 8)]           0.760598\n",
       "35                                    [(backpack, 10)]           0.729719\n",
       "118                  [(snowboard, 5), (skateboard, 7)]           0.723003\n",
       "117       [(skis, 5), (snowboard, 5), (skateboard, 7)]           0.722823\n",
       "119                                  [(skateboard, 7)]           0.714620\n",
       "64                       [(handbag, 8), (suitcase, 7)]           0.692564\n",
       "132  [(skis, 5), (snowboard, 5), (skateboard, 7), (...           0.691978\n",
       "116  [(frisbee, 6), (skis, 5), (snowboard, 5), (ska...           0.690860\n",
       "133  [(snowboard, 5), (skateboard, 7), (surfboard, 5)]           0.688130"
      ]
     },
     "metadata": {},
     "output_type": "display_data"
    }
   ],
   "source": [
    "predicted_label = 'dog_predicted_retina'\n",
    "true_label = 'human'\n",
    "result_folder = 'dataset_objects_resnet50'\n",
    "model_labels = ['person']\n",
    "\n",
    "accuracy_calc(predicted_label,true_label,result_folder,model_label)"
   ]
  },
  {
   "cell_type": "markdown",
   "metadata": {},
   "source": [
    "#### Any animal"
   ]
  },
  {
   "cell_type": "code",
   "execution_count": 50,
   "metadata": {
    "ExecuteTime": {
     "end_time": "2021-10-23T19:49:33.987662Z",
     "start_time": "2021-10-23T19:39:58.232755Z"
    },
    "scrolled": false
   },
   "outputs": [
    {
     "data": {
      "image/png": "[encoded data removed]",
      "text/plain": [
       "<Figure size 432x288 with 1 Axes>"
      ]
     },
     "metadata": {
      "needs_background": "light"
     },
     "output_type": "display_data"
    },
    {
     "data": {
      "image/png": "[encoded data removed]",
      "text/plain": [
       "<Figure size 432x288 with 1 Axes>"
      ]
     },
     "metadata": {
      "needs_background": "light"
     },
     "output_type": "display_data"
    },
    {
     "data": {
      "image/png": "[encoded data removed]",
      "text/plain": [
       "<Figure size 432x288 with 1 Axes>"
      ]
     },
     "metadata": {
      "needs_background": "light"
     },
     "output_type": "display_data"
    },
    {
     "data": {
      "image/png": "[encoded data removed]",
      "text/plain": [
       "<Figure size 432x288 with 1 Axes>"
      ]
     },
     "metadata": {
      "needs_background": "light"
     },
     "output_type": "display_data"
    },
    {
     "data": {
      "image/png": "[encoded data removed]",
      "text/plain": [
       "<Figure size 432x288 with 1 Axes>"
      ]
     },
     "metadata": {
      "needs_background": "light"
     },
     "output_type": "display_data"
    },
    {
     "data": {
      "image/png": "[encoded data removed]",
      "text/plain": [
       "<Figure size 432x288 with 1 Axes>"
      ]
     },
     "metadata": {
      "needs_background": "light"
     },
     "output_type": "display_data"
    },
    {
     "data": {
      "image/png": "[encoded data removed]",
      "text/plain": [
       "<Figure size 432x288 with 1 Axes>"
      ]
     },
     "metadata": {
      "needs_background": "light"
     },
     "output_type": "display_data"
    },
    {
     "data": {
      "image/png": "[encoded data removed]",
      "text/plain": [
       "<Figure size 432x288 with 1 Axes>"
      ]
     },
     "metadata": {
      "needs_background": "light"
     },
     "output_type": "display_data"
    },
    {
     "data": {
      "text/html": [
       "<div>\n",
       "<style scoped>\n",
       "    .dataframe tbody tr th:only-of-type {\n",
       "        vertical-align: middle;\n",
       "    }\n",
       "\n",
       "    .dataframe tbody tr th {\n",
       "        vertical-align: top;\n",
       "    }\n",
       "\n",
       "    .dataframe thead th {\n",
       "        text-align: right;\n",
       "    }\n",
       "</style>\n",
       "<table border=\"1\" class=\"dataframe\">\n",
       "  <thead>\n",
       "    <tr style=\"text-align: right;\">\n",
       "      <th></th>\n",
       "      <th>class</th>\n",
       "      <th>min_prob</th>\n",
       "      <th>max_balanced_accuracy</th>\n",
       "    </tr>\n",
       "  </thead>\n",
       "  <tbody>\n",
       "    <tr>\n",
       "      <th>16</th>\n",
       "      <td>dog</td>\n",
       "      <td>7</td>\n",
       "      <td>0.802390</td>\n",
       "    </tr>\n",
       "    <tr>\n",
       "      <th>18</th>\n",
       "      <td>sheep</td>\n",
       "      <td>5</td>\n",
       "      <td>0.753524</td>\n",
       "    </tr>\n",
       "    <tr>\n",
       "      <th>15</th>\n",
       "      <td>cat</td>\n",
       "      <td>5</td>\n",
       "      <td>0.733384</td>\n",
       "    </tr>\n",
       "    <tr>\n",
       "      <th>14</th>\n",
       "      <td>bird</td>\n",
       "      <td>5</td>\n",
       "      <td>0.729668</td>\n",
       "    </tr>\n",
       "    <tr>\n",
       "      <th>17</th>\n",
       "      <td>horse</td>\n",
       "      <td>6</td>\n",
       "      <td>0.695054</td>\n",
       "    </tr>\n",
       "    <tr>\n",
       "      <th>19</th>\n",
       "      <td>cow</td>\n",
       "      <td>9</td>\n",
       "      <td>0.675593</td>\n",
       "    </tr>\n",
       "    <tr>\n",
       "      <th>0</th>\n",
       "      <td>person</td>\n",
       "      <td>42</td>\n",
       "      <td>0.636310</td>\n",
       "    </tr>\n",
       "    <tr>\n",
       "      <th>29</th>\n",
       "      <td>frisbee</td>\n",
       "      <td>5</td>\n",
       "      <td>0.633485</td>\n",
       "    </tr>\n",
       "    <tr>\n",
       "      <th>36</th>\n",
       "      <td>skateboard</td>\n",
       "      <td>6</td>\n",
       "      <td>0.630758</td>\n",
       "    </tr>\n",
       "    <tr>\n",
       "      <th>20</th>\n",
       "      <td>elephant</td>\n",
       "      <td>5</td>\n",
       "      <td>0.608814</td>\n",
       "    </tr>\n",
       "    <tr>\n",
       "      <th>24</th>\n",
       "      <td>backpack</td>\n",
       "      <td>7</td>\n",
       "      <td>0.587769</td>\n",
       "    </tr>\n",
       "    <tr>\n",
       "      <th>21</th>\n",
       "      <td>bear</td>\n",
       "      <td>5</td>\n",
       "      <td>0.587343</td>\n",
       "    </tr>\n",
       "    <tr>\n",
       "      <th>26</th>\n",
       "      <td>handbag</td>\n",
       "      <td>8</td>\n",
       "      <td>0.581764</td>\n",
       "    </tr>\n",
       "    <tr>\n",
       "      <th>37</th>\n",
       "      <td>surfboard</td>\n",
       "      <td>5</td>\n",
       "      <td>0.571546</td>\n",
       "    </tr>\n",
       "    <tr>\n",
       "      <th>61</th>\n",
       "      <td>toilet</td>\n",
       "      <td>5</td>\n",
       "      <td>0.552569</td>\n",
       "    </tr>\n",
       "  </tbody>\n",
       "</table>\n",
       "</div>"
      ],
      "text/plain": [
       "         class  min_prob  max_balanced_accuracy\n",
       "16         dog         7               0.802390\n",
       "18       sheep         5               0.753524\n",
       "15         cat         5               0.733384\n",
       "14        bird         5               0.729668\n",
       "17       horse         6               0.695054\n",
       "19         cow         9               0.675593\n",
       "0       person        42               0.636310\n",
       "29     frisbee         5               0.633485\n",
       "36  skateboard         6               0.630758\n",
       "20    elephant         5               0.608814\n",
       "24    backpack         7               0.587769\n",
       "21        bear         5               0.587343\n",
       "26     handbag         8               0.581764\n",
       "37   surfboard         5               0.571546\n",
       "61      toilet         5               0.552569"
      ]
     },
     "metadata": {},
     "output_type": "display_data"
    },
    {
     "data": {
      "text/html": [
       "<div>\n",
       "<style scoped>\n",
       "    .dataframe tbody tr th:only-of-type {\n",
       "        vertical-align: middle;\n",
       "    }\n",
       "\n",
       "    .dataframe tbody tr th {\n",
       "        vertical-align: top;\n",
       "    }\n",
       "\n",
       "    .dataframe thead th {\n",
       "        text-align: right;\n",
       "    }\n",
       "</style>\n",
       "<table border=\"1\" class=\"dataframe\">\n",
       "  <thead>\n",
       "    <tr style=\"text-align: right;\">\n",
       "      <th></th>\n",
       "      <th>label</th>\n",
       "      <th>balanced_accuracy</th>\n",
       "    </tr>\n",
       "  </thead>\n",
       "  <tbody>\n",
       "    <tr>\n",
       "      <th>9</th>\n",
       "      <td>[(dog, 7)]</td>\n",
       "      <td>0.802390</td>\n",
       "    </tr>\n",
       "    <tr>\n",
       "      <th>8</th>\n",
       "      <td>[(cat, 5), (dog, 7)]</td>\n",
       "      <td>0.792205</td>\n",
       "    </tr>\n",
       "    <tr>\n",
       "      <th>7</th>\n",
       "      <td>[(bird, 5), (cat, 5), (dog, 7)]</td>\n",
       "      <td>0.758424</td>\n",
       "    </tr>\n",
       "    <tr>\n",
       "      <th>20</th>\n",
       "      <td>[(sheep, 5)]</td>\n",
       "      <td>0.753524</td>\n",
       "    </tr>\n",
       "    <tr>\n",
       "      <th>1</th>\n",
       "      <td>[(person, 42), (bird, 5)]</td>\n",
       "      <td>0.752513</td>\n",
       "    </tr>\n",
       "    <tr>\n",
       "      <th>3</th>\n",
       "      <td>[(person, 42), (bird, 5), (cat, 5)]</td>\n",
       "      <td>0.750983</td>\n",
       "    </tr>\n",
       "    <tr>\n",
       "      <th>6</th>\n",
       "      <td>[(person, 42), (bird, 5), (cat, 5), (dog, 7)]</td>\n",
       "      <td>0.750854</td>\n",
       "    </tr>\n",
       "    <tr>\n",
       "      <th>4</th>\n",
       "      <td>[(bird, 5), (cat, 5)]</td>\n",
       "      <td>0.748213</td>\n",
       "    </tr>\n",
       "    <tr>\n",
       "      <th>26</th>\n",
       "      <td>[(sheep, 5), (cow, 9)]</td>\n",
       "      <td>0.736028</td>\n",
       "    </tr>\n",
       "    <tr>\n",
       "      <th>5</th>\n",
       "      <td>[(cat, 5)]</td>\n",
       "      <td>0.733384</td>\n",
       "    </tr>\n",
       "  </tbody>\n",
       "</table>\n",
       "</div>"
      ],
      "text/plain": [
       "                                            label  balanced_accuracy\n",
       "9                                      [(dog, 7)]           0.802390\n",
       "8                            [(cat, 5), (dog, 7)]           0.792205\n",
       "7                 [(bird, 5), (cat, 5), (dog, 7)]           0.758424\n",
       "20                                   [(sheep, 5)]           0.753524\n",
       "1                       [(person, 42), (bird, 5)]           0.752513\n",
       "3             [(person, 42), (bird, 5), (cat, 5)]           0.750983\n",
       "6   [(person, 42), (bird, 5), (cat, 5), (dog, 7)]           0.750854\n",
       "4                           [(bird, 5), (cat, 5)]           0.748213\n",
       "26                         [(sheep, 5), (cow, 9)]           0.736028\n",
       "5                                      [(cat, 5)]           0.733384"
      ]
     },
     "metadata": {},
     "output_type": "display_data"
    }
   ],
   "source": [
    "predicted_label = 'dog_predicted_retina'\n",
    "true_label = 'any_animal'\n",
    "result_folder = 'dataset_objects_resnet50'\n",
    "model_labels = ['bird', 'dog', 'cat', 'cow', 'horse', 'sheep', 'elephant', 'bear']\n",
    "\n",
    "accuracy_calc(predicted_label,true_label,result_folder,model_label)"
   ]
  },
  {
   "cell_type": "markdown",
   "metadata": {
    "ExecuteTime": {
     "end_time": "2021-10-22T17:47:18.229325Z",
     "start_time": "2021-10-22T17:47:18.224324Z"
    }
   },
   "source": [
    "### YOLOv3"
   ]
  },
  {
   "cell_type": "markdown",
   "metadata": {
    "ExecuteTime": {
     "end_time": "2021-10-22T17:45:54.746993Z",
     "start_time": "2021-10-22T17:45:54.734879Z"
    }
   },
   "source": [
    "#### Dog"
   ]
  },
  {
   "cell_type": "code",
   "execution_count": 24,
   "metadata": {
    "ExecuteTime": {
     "end_time": "2021-10-23T08:25:34.517183Z",
     "start_time": "2021-10-23T08:25:01.569155Z"
    }
   },
   "outputs": [
    {
     "data": {
      "image/png": "[encoded data removed]",
      "text/plain": [
       "<Figure size 432x288 with 1 Axes>"
      ]
     },
     "metadata": {
      "needs_background": "light"
     },
     "output_type": "display_data"
    },
    {
     "data": {
      "text/html": [
       "<div>\n",
       "<style scoped>\n",
       "    .dataframe tbody tr th:only-of-type {\n",
       "        vertical-align: middle;\n",
       "    }\n",
       "\n",
       "    .dataframe tbody tr th {\n",
       "        vertical-align: top;\n",
       "    }\n",
       "\n",
       "    .dataframe thead th {\n",
       "        text-align: right;\n",
       "    }\n",
       "</style>\n",
       "<table border=\"1\" class=\"dataframe\">\n",
       "  <thead>\n",
       "    <tr style=\"text-align: right;\">\n",
       "      <th></th>\n",
       "      <th>class</th>\n",
       "      <th>min_prob</th>\n",
       "      <th>max_balanced_accuracy</th>\n",
       "    </tr>\n",
       "  </thead>\n",
       "  <tbody>\n",
       "    <tr>\n",
       "      <th>16</th>\n",
       "      <td>dog</td>\n",
       "      <td>5</td>\n",
       "      <td>0.723111</td>\n",
       "    </tr>\n",
       "    <tr>\n",
       "      <th>0</th>\n",
       "      <td>person</td>\n",
       "      <td>52</td>\n",
       "      <td>0.631480</td>\n",
       "    </tr>\n",
       "  </tbody>\n",
       "</table>\n",
       "</div>"
      ],
      "text/plain": [
       "     class  min_prob  max_balanced_accuracy\n",
       "16     dog         5               0.723111\n",
       "0   person        52               0.631480"
      ]
     },
     "metadata": {},
     "output_type": "display_data"
    },
    {
     "data": {
      "text/html": [
       "<div>\n",
       "<style scoped>\n",
       "    .dataframe tbody tr th:only-of-type {\n",
       "        vertical-align: middle;\n",
       "    }\n",
       "\n",
       "    .dataframe tbody tr th {\n",
       "        vertical-align: top;\n",
       "    }\n",
       "\n",
       "    .dataframe thead th {\n",
       "        text-align: right;\n",
       "    }\n",
       "</style>\n",
       "<table border=\"1\" class=\"dataframe\">\n",
       "  <thead>\n",
       "    <tr style=\"text-align: right;\">\n",
       "      <th></th>\n",
       "      <th>label</th>\n",
       "      <th>balanced_accuracy</th>\n",
       "    </tr>\n",
       "  </thead>\n",
       "  <tbody>\n",
       "    <tr>\n",
       "      <th>1</th>\n",
       "      <td>[(person, 52), (dog, 5)]</td>\n",
       "      <td>0.752007</td>\n",
       "    </tr>\n",
       "    <tr>\n",
       "      <th>2</th>\n",
       "      <td>[(dog, 5)]</td>\n",
       "      <td>0.723111</td>\n",
       "    </tr>\n",
       "    <tr>\n",
       "      <th>0</th>\n",
       "      <td>[(person, 52)]</td>\n",
       "      <td>0.631480</td>\n",
       "    </tr>\n",
       "  </tbody>\n",
       "</table>\n",
       "</div>"
      ],
      "text/plain": [
       "                      label  balanced_accuracy\n",
       "1  [(person, 52), (dog, 5)]           0.752007\n",
       "2                [(dog, 5)]           0.723111\n",
       "0            [(person, 52)]           0.631480"
      ]
     },
     "metadata": {},
     "output_type": "display_data"
    }
   ],
   "source": [
    "predicted_label = 'dog_predicted_retina'\n",
    "true_label = 'dog'\n",
    "result_folder = 'dataset_objects_yolo'\n",
    "model_labels = ['dog']\n",
    "\n",
    "accuracy_calc(predicted_label,true_label,result_folder,model_label)"
   ]
  },
  {
   "cell_type": "markdown",
   "metadata": {},
   "source": [
    "#### Human"
   ]
  },
  {
   "cell_type": "code",
   "execution_count": 25,
   "metadata": {
    "ExecuteTime": {
     "end_time": "2021-10-23T08:26:08.191370Z",
     "start_time": "2021-10-23T08:25:34.518187Z"
    }
   },
   "outputs": [
    {
     "data": {
      "image/png": "[encoded data removed]",
      "text/plain": [
       "<Figure size 432x288 with 1 Axes>"
      ]
     },
     "metadata": {
      "needs_background": "light"
     },
     "output_type": "display_data"
    },
    {
     "data": {
      "text/html": [
       "<div>\n",
       "<style scoped>\n",
       "    .dataframe tbody tr th:only-of-type {\n",
       "        vertical-align: middle;\n",
       "    }\n",
       "\n",
       "    .dataframe tbody tr th {\n",
       "        vertical-align: top;\n",
       "    }\n",
       "\n",
       "    .dataframe thead th {\n",
       "        text-align: right;\n",
       "    }\n",
       "</style>\n",
       "<table border=\"1\" class=\"dataframe\">\n",
       "  <thead>\n",
       "    <tr style=\"text-align: right;\">\n",
       "      <th></th>\n",
       "      <th>class</th>\n",
       "      <th>min_prob</th>\n",
       "      <th>max_balanced_accuracy</th>\n",
       "    </tr>\n",
       "  </thead>\n",
       "  <tbody>\n",
       "    <tr>\n",
       "      <th>0</th>\n",
       "      <td>person</td>\n",
       "      <td>60</td>\n",
       "      <td>0.885854</td>\n",
       "    </tr>\n",
       "    <tr>\n",
       "      <th>26</th>\n",
       "      <td>handbag</td>\n",
       "      <td>5</td>\n",
       "      <td>0.628189</td>\n",
       "    </tr>\n",
       "    <tr>\n",
       "      <th>16</th>\n",
       "      <td>dog</td>\n",
       "      <td>5</td>\n",
       "      <td>0.608413</td>\n",
       "    </tr>\n",
       "    <tr>\n",
       "      <th>24</th>\n",
       "      <td>backpack</td>\n",
       "      <td>5</td>\n",
       "      <td>0.574946</td>\n",
       "    </tr>\n",
       "    <tr>\n",
       "      <th>1</th>\n",
       "      <td>bicycle</td>\n",
       "      <td>5</td>\n",
       "      <td>0.573015</td>\n",
       "    </tr>\n",
       "  </tbody>\n",
       "</table>\n",
       "</div>"
      ],
      "text/plain": [
       "       class  min_prob  max_balanced_accuracy\n",
       "0     person        60               0.885854\n",
       "26   handbag         5               0.628189\n",
       "16       dog         5               0.608413\n",
       "24  backpack         5               0.574946\n",
       "1    bicycle         5               0.573015"
      ]
     },
     "metadata": {},
     "output_type": "display_data"
    },
    {
     "data": {
      "text/html": [
       "<div>\n",
       "<style scoped>\n",
       "    .dataframe tbody tr th:only-of-type {\n",
       "        vertical-align: middle;\n",
       "    }\n",
       "\n",
       "    .dataframe tbody tr th {\n",
       "        vertical-align: top;\n",
       "    }\n",
       "\n",
       "    .dataframe thead th {\n",
       "        text-align: right;\n",
       "    }\n",
       "</style>\n",
       "<table border=\"1\" class=\"dataframe\">\n",
       "  <thead>\n",
       "    <tr style=\"text-align: right;\">\n",
       "      <th></th>\n",
       "      <th>label</th>\n",
       "      <th>balanced_accuracy</th>\n",
       "    </tr>\n",
       "  </thead>\n",
       "  <tbody>\n",
       "    <tr>\n",
       "      <th>0</th>\n",
       "      <td>[(person, 60)]</td>\n",
       "      <td>0.885854</td>\n",
       "    </tr>\n",
       "    <tr>\n",
       "      <th>1</th>\n",
       "      <td>[(person, 60), (bicycle, 5)]</td>\n",
       "      <td>0.850186</td>\n",
       "    </tr>\n",
       "    <tr>\n",
       "      <th>3</th>\n",
       "      <td>[(person, 60), (bicycle, 5), (dog, 5)]</td>\n",
       "      <td>0.715724</td>\n",
       "    </tr>\n",
       "    <tr>\n",
       "      <th>10</th>\n",
       "      <td>[(person, 60), (bicycle, 5), (dog, 5), (backpa...</td>\n",
       "      <td>0.715503</td>\n",
       "    </tr>\n",
       "    <tr>\n",
       "      <th>6</th>\n",
       "      <td>[(person, 60), (bicycle, 5), (dog, 5), (backpa...</td>\n",
       "      <td>0.714828</td>\n",
       "    </tr>\n",
       "    <tr>\n",
       "      <th>12</th>\n",
       "      <td>[(dog, 5), (backpack, 5), (handbag, 5)]</td>\n",
       "      <td>0.673691</td>\n",
       "    </tr>\n",
       "    <tr>\n",
       "      <th>11</th>\n",
       "      <td>[(bicycle, 5), (dog, 5), (backpack, 5), (handb...</td>\n",
       "      <td>0.665508</td>\n",
       "    </tr>\n",
       "    <tr>\n",
       "      <th>8</th>\n",
       "      <td>[(dog, 5), (backpack, 5)]</td>\n",
       "      <td>0.649454</td>\n",
       "    </tr>\n",
       "    <tr>\n",
       "      <th>13</th>\n",
       "      <td>[(backpack, 5), (handbag, 5)]</td>\n",
       "      <td>0.648826</td>\n",
       "    </tr>\n",
       "    <tr>\n",
       "      <th>7</th>\n",
       "      <td>[(bicycle, 5), (dog, 5), (backpack, 5)]</td>\n",
       "      <td>0.645702</td>\n",
       "    </tr>\n",
       "  </tbody>\n",
       "</table>\n",
       "</div>"
      ],
      "text/plain": [
       "                                                label  balanced_accuracy\n",
       "0                                      [(person, 60)]           0.885854\n",
       "1                        [(person, 60), (bicycle, 5)]           0.850186\n",
       "3              [(person, 60), (bicycle, 5), (dog, 5)]           0.715724\n",
       "10  [(person, 60), (bicycle, 5), (dog, 5), (backpa...           0.715503\n",
       "6   [(person, 60), (bicycle, 5), (dog, 5), (backpa...           0.714828\n",
       "12            [(dog, 5), (backpack, 5), (handbag, 5)]           0.673691\n",
       "11  [(bicycle, 5), (dog, 5), (backpack, 5), (handb...           0.665508\n",
       "8                           [(dog, 5), (backpack, 5)]           0.649454\n",
       "13                      [(backpack, 5), (handbag, 5)]           0.648826\n",
       "7             [(bicycle, 5), (dog, 5), (backpack, 5)]           0.645702"
      ]
     },
     "metadata": {},
     "output_type": "display_data"
    }
   ],
   "source": [
    "predicted_label = 'dog_predicted_retina'\n",
    "true_label = 'human'\n",
    "result_folder = 'dataset_objects_yolo'\n",
    "model_labels = ['person']\n",
    "\n",
    "accuracy_calc(predicted_label,true_label,result_folder,model_label)\n"
   ]
  },
  {
   "cell_type": "markdown",
   "metadata": {},
   "source": [
    "#### Any animal"
   ]
  },
  {
   "cell_type": "code",
   "execution_count": 51,
   "metadata": {
    "ExecuteTime": {
     "end_time": "2021-10-23T19:51:18.782962Z",
     "start_time": "2021-10-23T19:49:33.989665Z"
    },
    "scrolled": false
   },
   "outputs": [
    {
     "data": {
      "image/png": "[encoded data removed]",
      "text/plain": [
       "<Figure size 432x288 with 1 Axes>"
      ]
     },
     "metadata": {
      "needs_background": "light"
     },
     "output_type": "display_data"
    },
    {
     "data": {
      "image/png": "[encoded data removed]",
      "text/plain": [
       "<Figure size 432x288 with 1 Axes>"
      ]
     },
     "metadata": {
      "needs_background": "light"
     },
     "output_type": "display_data"
    },
    {
     "data": {
      "image/png": "[encoded data removed]",
      "text/plain": [
       "<Figure size 432x288 with 1 Axes>"
      ]
     },
     "metadata": {
      "needs_background": "light"
     },
     "output_type": "display_data"
    },
    {
     "data": {
      "image/png": "[encoded data removed]",
      "text/plain": [
       "<Figure size 432x288 with 1 Axes>"
      ]
     },
     "metadata": {
      "needs_background": "light"
     },
     "output_type": "display_data"
    },
    {
     "data": {
      "image/png": "[encoded data removed]",
      "text/plain": [
       "<Figure size 432x288 with 1 Axes>"
      ]
     },
     "metadata": {
      "needs_background": "light"
     },
     "output_type": "display_data"
    },
    {
     "data": {
      "image/png": "[encoded data removed]",
      "text/plain": [
       "<Figure size 432x288 with 1 Axes>"
      ]
     },
     "metadata": {
      "needs_background": "light"
     },
     "output_type": "display_data"
    },
    {
     "data": {
      "text/html": [
       "<div>\n",
       "<style scoped>\n",
       "    .dataframe tbody tr th:only-of-type {\n",
       "        vertical-align: middle;\n",
       "    }\n",
       "\n",
       "    .dataframe tbody tr th {\n",
       "        vertical-align: top;\n",
       "    }\n",
       "\n",
       "    .dataframe thead th {\n",
       "        text-align: right;\n",
       "    }\n",
       "</style>\n",
       "<table border=\"1\" class=\"dataframe\">\n",
       "  <thead>\n",
       "    <tr style=\"text-align: right;\">\n",
       "      <th></th>\n",
       "      <th>class</th>\n",
       "      <th>min_prob</th>\n",
       "      <th>max_balanced_accuracy</th>\n",
       "    </tr>\n",
       "  </thead>\n",
       "  <tbody>\n",
       "    <tr>\n",
       "      <th>16</th>\n",
       "      <td>dog</td>\n",
       "      <td>5</td>\n",
       "      <td>0.727178</td>\n",
       "    </tr>\n",
       "    <tr>\n",
       "      <th>0</th>\n",
       "      <td>person</td>\n",
       "      <td>55</td>\n",
       "      <td>0.630861</td>\n",
       "    </tr>\n",
       "    <tr>\n",
       "      <th>14</th>\n",
       "      <td>bird</td>\n",
       "      <td>5</td>\n",
       "      <td>0.575259</td>\n",
       "    </tr>\n",
       "  </tbody>\n",
       "</table>\n",
       "</div>"
      ],
      "text/plain": [
       "     class  min_prob  max_balanced_accuracy\n",
       "16     dog         5               0.727178\n",
       "0   person        55               0.630861\n",
       "14    bird         5               0.575259"
      ]
     },
     "metadata": {},
     "output_type": "display_data"
    },
    {
     "data": {
      "text/html": [
       "<div>\n",
       "<style scoped>\n",
       "    .dataframe tbody tr th:only-of-type {\n",
       "        vertical-align: middle;\n",
       "    }\n",
       "\n",
       "    .dataframe tbody tr th {\n",
       "        vertical-align: top;\n",
       "    }\n",
       "\n",
       "    .dataframe thead th {\n",
       "        text-align: right;\n",
       "    }\n",
       "</style>\n",
       "<table border=\"1\" class=\"dataframe\">\n",
       "  <thead>\n",
       "    <tr style=\"text-align: right;\">\n",
       "      <th></th>\n",
       "      <th>label</th>\n",
       "      <th>balanced_accuracy</th>\n",
       "    </tr>\n",
       "  </thead>\n",
       "  <tbody>\n",
       "    <tr>\n",
       "      <th>3</th>\n",
       "      <td>[(person, 55), (bird, 5), (dog, 5)]</td>\n",
       "      <td>0.786883</td>\n",
       "    </tr>\n",
       "    <tr>\n",
       "      <th>4</th>\n",
       "      <td>[(bird, 5), (dog, 5)]</td>\n",
       "      <td>0.754908</td>\n",
       "    </tr>\n",
       "    <tr>\n",
       "      <th>5</th>\n",
       "      <td>[(dog, 5)]</td>\n",
       "      <td>0.727178</td>\n",
       "    </tr>\n",
       "    <tr>\n",
       "      <th>1</th>\n",
       "      <td>[(person, 55), (bird, 5)]</td>\n",
       "      <td>0.682221</td>\n",
       "    </tr>\n",
       "    <tr>\n",
       "      <th>0</th>\n",
       "      <td>[(person, 55)]</td>\n",
       "      <td>0.630861</td>\n",
       "    </tr>\n",
       "    <tr>\n",
       "      <th>2</th>\n",
       "      <td>[(bird, 5)]</td>\n",
       "      <td>0.575259</td>\n",
       "    </tr>\n",
       "  </tbody>\n",
       "</table>\n",
       "</div>"
      ],
      "text/plain": [
       "                                 label  balanced_accuracy\n",
       "3  [(person, 55), (bird, 5), (dog, 5)]           0.786883\n",
       "4                [(bird, 5), (dog, 5)]           0.754908\n",
       "5                           [(dog, 5)]           0.727178\n",
       "1            [(person, 55), (bird, 5)]           0.682221\n",
       "0                       [(person, 55)]           0.630861\n",
       "2                          [(bird, 5)]           0.575259"
      ]
     },
     "metadata": {},
     "output_type": "display_data"
    }
   ],
   "source": [
    "predicted_label = 'dog_predicted_retina'\n",
    "true_label = 'any_animal'\n",
    "result_folder = 'dataset_objects_yolo'\n",
    "model_labels = ['bird', 'dog', 'cat', 'cow', 'horse', 'sheep']\n",
    "\n",
    "accuracy_calc(predicted_label,true_label,result_folder,model_label)"
   ]
  },
  {
   "cell_type": "markdown",
   "metadata": {
    "ExecuteTime": {
     "end_time": "2021-10-22T17:48:29.668393Z",
     "start_time": "2021-10-22T17:48:29.651395Z"
    }
   },
   "source": [
    "## Combined quality"
   ]
  },
  {
   "cell_type": "code",
   "execution_count": 54,
   "metadata": {
    "ExecuteTime": {
     "end_time": "2021-10-23T20:29:54.441969Z",
     "start_time": "2021-10-23T20:29:53.027989Z"
    }
   },
   "outputs": [
    {
     "name": "stdout",
     "output_type": "stream",
     "text": [
      "\n",
      "Only Resnet\n",
      "Owner detection balanced accuracy: 0.8884274843314702\n",
      "Any animals detection balanced accuracy: 0.8023895718131306\n",
      "Dogs detection balanced accuracy: 0.7576994997027937\n",
      "\n",
      "Only Yolo\n",
      "Owner detection balanced accuracy: 0.8858536392119303\n",
      "Any animals detection balanced accuracy: 0.7549081035923142\n",
      "Dogs detection balanced accuracy: 0.7231110890958325\n",
      "\n",
      "Only Resnet+Yolo\n",
      "Owner detection balanced accuracy: 0.8907158645101829\n",
      "Any animals detection balanced accuracy: 0.821662290647253\n",
      "Dogs detection balanced accuracy: 0.776713476652797\n"
     ]
    }
   ],
   "source": [
    "#retina\n",
    "result_folder = 'dataset_objects_resnet50'\n",
    "objects_retina = pd.read_csv(result_folder + '/all_objects.csv')\n",
    "#person\n",
    "tmp = objects_retina[(objects_retina['name'] == 'person')&(objects_retina['percentage_probability'] >= 52)]\n",
    "data['human_predict_resnet'] = np.where(data['file_id'].isin(tmp['file_id']), 1, 0)\n",
    "#any animal\n",
    "tmp = objects_retina[((objects_retina['name'] == 'dog')&(objects_retina['percentage_probability'] >= 7))]\n",
    "data['any_animal_predict_resnet'] = np.where(data['file_id'].isin(tmp['file_id']), 1, 0)\n",
    "#dog\n",
    "tmp = objects_retina[(objects_retina['name'] == 'dog')&(objects_retina['percentage_probability'] >= 9)]\n",
    "data['dog_predict_resnet'] = np.where(data['file_id'].isin(tmp['file_id']), 1, 0)\n",
    "\n",
    "#yolo\n",
    "result_folder = 'dataset_objects_yolo'\n",
    "objects_retina = pd.read_csv(result_folder + '/all_objects.csv')\n",
    "#person\n",
    "tmp = objects_retina[(objects_retina['name'] == 'person')&(objects_retina['percentage_probability'] >= 60)]\n",
    "data['human_predict_yolo'] = np.where(data['file_id'].isin(tmp['file_id']), 1, 0)\n",
    "#any animal\n",
    "tmp = objects_retina[((objects_retina['name'] == 'bird')&(objects_retina['percentage_probability'] >= 5))\n",
    "                    |((objects_retina['name'] == 'dog')&(objects_retina['percentage_probability'] >= 5))]\n",
    "data['any_animal_predict_yolo'] = np.where(data['file_id'].isin(tmp['file_id']), 1, 0)\n",
    "#dog\n",
    "tmp = objects_retina[(objects_retina['name'] == 'dog')&(objects_retina['percentage_probability'] >= 5)]\n",
    "data['dog_predict_yolo'] = np.where(data['file_id'].isin(tmp['file_id']), 1, 0)\n",
    "\n",
    "\n",
    "data['human_predict'] = data['human_predict_yolo'] | data['human_predict_resnet']\n",
    "data['any_animal_predict'] = data['any_animal_predict_yolo'] | data['any_animal_predict_resnet']\n",
    "data['dog_predict'] = data['dog_predict_yolo'] | data['dog_predict_resnet']\n",
    "\n",
    "print('\\nOnly Resnet')\n",
    "print('Owner detection balanced accuracy:', balanced_accuracy_score(data['human'], data['human_predict_resnet']))\n",
    "print('Any animals detection balanced accuracy:', balanced_accuracy_score(data['any_animal'], data['any_animal_predict_resnet']))\n",
    "print('Dogs detection balanced accuracy:', balanced_accuracy_score(data['dog'], data['dog_predict_resnet']))\n",
    "\n",
    "print('\\nOnly Yolo')\n",
    "print('Owner detection balanced accuracy:', balanced_accuracy_score(data['human'], data['human_predict_yolo']))\n",
    "print('Any animals detection balanced accuracy:', balanced_accuracy_score(data['any_animal'], data['any_animal_predict_yolo']))\n",
    "print('Dogs detection balanced accuracy:', balanced_accuracy_score(data['dog'], data['dog_predict_yolo']))\n",
    "\n",
    "print('\\nOnly Resnet+Yolo')\n",
    "print('Owner detection balanced accuracy:', balanced_accuracy_score(data['human'], data['human_predict']))\n",
    "print('Any animals detection balanced accuracy:', balanced_accuracy_score(data['any_animal'], data['any_animal_predict']))\n",
    "print('Dogs detection balanced accuracy:', balanced_accuracy_score(data['dog'], data['dog_predict']))"
   ]
  }
 ],
 "metadata": {
  "kernelspec": {
   "display_name": "Python 3",
   "language": "python",
   "name": "python3"
  },
  "language_info": {
   "codemirror_mode": {
    "name": "ipython",
    "version": 3
   },
   "file_extension": ".py",
   "mimetype": "text/x-python",
   "name": "python",
   "nbconvert_exporter": "python",
   "pygments_lexer": "ipython3",
   "version": "3.7.6"
  },
  "toc": {
   "base_numbering": 1,
   "nav_menu": {},
   "number_sections": false,
   "sideBar": true,
   "skip_h1_title": false,
   "title_cell": "Table of Contents",
   "title_sidebar": "Contents",
   "toc_cell": true,
   "toc_position": {
    "height": "calc(100% - 180px)",
    "left": "10px",
    "top": "150px",
    "width": "165px"
   },
   "toc_section_display": true,
   "toc_window_display": true
  }
 },
 "nbformat": 4,
 "nbformat_minor": 4
}
